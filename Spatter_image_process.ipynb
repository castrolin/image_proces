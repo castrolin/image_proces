{
 "cells": [
  {
   "cell_type": "code",
   "execution_count": null,
   "metadata": {},
   "outputs": [],
   "source": [
    "'''the Image analysis for spatter area calculation'''\n",
    "# Date: 2020/06/29\n",
    "# @Castro"
   ]
  },
  {
   "cell_type": "code",
   "execution_count": null,
   "metadata": {},
   "outputs": [],
   "source": [
    "import os\n",
    "import cv2\n",
    "import matplotlib.pyplot as plt\n",
    "import numpy as np\n"
   ]
  },
  {
   "cell_type": "code",
   "execution_count": null,
   "metadata": {},
   "outputs": [],
   "source": [
    "file = r'image_spatter_area/6115.PNG'\n",
    "image = cv2.imread(file)\n",
    "img_gray = cv2.cvtColor(image,cv2.COLOR_BGR2GRAY)\n",
    "img_gray_one = np.double(img_gray)\n",
    "img_test = np.double(img_gray_one)\n",
    "plt.imshow(img_gray)\n",
    "plt.show()\n",
    "#cv2.namedWindow('My Image to edge', cv2.WINDOW_NORMAL)\n",
    "#cv2.imshow('My Image', image)\n",
    "#cv2.waitKey(0)"
   ]
  },
  {
   "cell_type": "code",
   "execution_count": null,
   "metadata": {},
   "outputs": [],
   "source": [
    "low_range = 700\n",
    "up_range = 2500\n",
    "hist = cv2.calcHist([img_gray], [0], None, [256], [0, 256])\n",
    "plt.plot(hist)\n",
    "plt.show()"
   ]
  },
  {
   "cell_type": "code",
   "execution_count": null,
   "metadata": {},
   "outputs": [],
   "source": [
    "for i in np.arange(0,img_gray.shape[0]):\n",
    "    for j in np.arange(0,img_gray.shape[1]):\n",
    "        if img_gray_one[i,j] <= 50 or img_gray_one[i,j]>= 100 :\n",
    "            img_test[i,j] = 0\n",
    "        else:\n",
    "            img_test[i,j]=255\n",
    "plt.imshow(np.uint8(img_test))\n",
    "plt.show()\n",
    "cv2.namedWindow('My Image to edge', cv2.WINDOW_NORMAL)\n",
    "cv2.imshow('My Image', np.uint8(img_test))\n",
    "cv2.waitKey(0)"
   ]
  },
  {
   "cell_type": "code",
   "execution_count": null,
   "metadata": {},
   "outputs": [],
   "source": [
    "for i in np.arange(0,img_gray.shape[0]):\n",
    "    if i >= 3998 or i<= 100:\n",
    "        img_test[i,]=255\n",
    "plt.imshow(img_test)\n",
    "plt.show()"
   ]
  },
  {
   "cell_type": "code",
   "execution_count": null,
   "metadata": {},
   "outputs": [],
   "source": [
    "#img_region=np.zeros((img_gray.shpae[0],img_gray.shape[1]))\n",
    "\n",
    "for i in np.arange(0,img_gray.shape[0]):\n",
    "    if i<=low_range or i>=up_range:\n",
    "        img_test[i,:] = 255\n",
    "plt.imshow(np.uint8(img_test))"
   ]
  },
  {
   "cell_type": "code",
   "execution_count": null,
   "metadata": {},
   "outputs": [],
   "source": [
    "red_channel = image.copy()\n",
    "for i in np.arange(low_range,up_range):\n",
    "    for j in np.arange(0,image.shape[1]):\n",
    "        red_channel[i,j,0]=0\n",
    "        red_channel[i,j,1]=0\n",
    "cv2.imshow('red',red_channel)\n",
    "cv2.waitKey(0)\n",
    "        "
   ]
  },
  {
   "cell_type": "code",
   "execution_count": null,
   "metadata": {},
   "outputs": [],
   "source": [
    "photo = np.zeros((4000,6000,3),np.uint8)\n",
    "photo[:,:,0]=255\n",
    "photo[:,:,1]=255\n",
    "photo[:,:,2]=255\n",
    "#cv2.imshow('try',photo)\n",
    "#cv2.waitKey(0)"
   ]
  },
  {
   "cell_type": "code",
   "execution_count": null,
   "metadata": {},
   "outputs": [],
   "source": [
    "try_graph = photo.copy()\n",
    "try_graph[:,:,0]=0\n",
    "try_graph[:,:,1]=0\n",
    "try_graph[:,:,2]=0\n",
    "for i in np.arange(low_range,up_range):\n",
    "    for j in np.arange(0,image.shape[1]):\n",
    "        try_graph[i,j,2]=img_test[i,j]\n",
    "cv2.imshow('ytttt',try_graph)\n",
    "cv2.waitKey(0)"
   ]
  },
  {
   "cell_type": "code",
   "execution_count": null,
   "metadata": {},
   "outputs": [],
   "source": [
    "result = image.copy()\n",
    "for i in np.arange(low_range,up_range):\n",
    "    for j in np.arange(0,image.shape[1]):\n",
    "        if img_test[i,j]!=0:\n",
    "            result[i,j,0]=0\n",
    "            result[i,j,1]=0\n",
    "            result[i,j,2]=0\n",
    "result = result+try_graph\n",
    "cv2.imshow('result',result)\n",
    "cv2.waitKey(0)"
   ]
  },
  {
   "cell_type": "code",
   "execution_count": null,
   "metadata": {},
   "outputs": [],
   "source": [
    "cv2.imwrite('6115out.jpg',result)"
   ]
  },
  {
   "cell_type": "code",
   "execution_count": null,
   "metadata": {},
   "outputs": [],
   "source": []
  }
 ],
 "metadata": {
  "kernelspec": {
   "display_name": "Python 3",
   "language": "python",
   "name": "python3"
  },
  "language_info": {
   "codemirror_mode": {
    "name": "ipython",
    "version": 3
   },
   "file_extension": ".py",
   "mimetype": "text/x-python",
   "name": "python",
   "nbconvert_exporter": "python",
   "pygments_lexer": "ipython3",
   "version": "3.7.3"
  }
 },
 "nbformat": 4,
 "nbformat_minor": 4
}
