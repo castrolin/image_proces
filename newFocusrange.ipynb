{
 "cells": [
  {
   "cell_type": "code",
   "execution_count": 1,
   "metadata": {},
   "outputs": [],
   "source": [
    "import numpy as np\n",
    "import matplotlib.pyplot as plt\n",
    "import cv2\n",
    "import os\n",
    "from numpy.random import seed\n",
    "from numpy.random import randint"
   ]
  },
  {
   "cell_type": "code",
   "execution_count": 2,
   "metadata": {},
   "outputs": [],
   "source": [
    "image = cv2.imread(r'image_spatter_area/6118.PNG')"
   ]
  },
  {
   "cell_type": "code",
   "execution_count": 3,
   "metadata": {},
   "outputs": [],
   "source": [
    "imagett = image.copy()\n",
    "n=100\n",
    "for i in np.arange(2100,4000,100):\n",
    "    imagett[i:i+n,:,:]=imagett[2000:2100,:,:]\n",
    "    \n",
    "#imagett[2200:2400,:,:]=imagett[2000:2200,:,:]\n",
    "#imagett[2400:2600,:,:]=imagett[2000:2200,:,:]\n",
    "#imagett[2600:2800,:,:]=imagett[2000:2200,:,:]\n",
    "#imagett[2800:3000,:,:]=imagett[2000:2200,:,:]\n",
    "#imagett[3000:3200,:,:]=imagett[2000:2200,:,:]\n",
    "#imagett[3200:3400,:,:]=imagett[2000:2200,:,:]\n",
    "#imagett[3400:3600,:,:]=imagett[2000:2200,:,:]\n",
    "#imagett[3600:3800,:,:]=imagett[2000:2200,:,:]\n",
    "#imagett[3800:4000,:,:]=imagett[2000:2200,:,:]"
   ]
  },
  {
   "cell_type": "code",
   "execution_count": 12,
   "metadata": {},
   "outputs": [
    {
     "data": {
      "text/plain": [
       "13"
      ]
     },
     "execution_count": 12,
     "metadata": {},
     "output_type": "execute_result"
    }
   ],
   "source": [
    "cv2.imshow('image',imagett)\n",
    "cv2.waitKey(0)"
   ]
  },
  {
   "cell_type": "code",
   "execution_count": 4,
   "metadata": {},
   "outputs": [
    {
     "data": {
      "text/plain": [
       "True"
      ]
     },
     "execution_count": 4,
     "metadata": {},
     "output_type": "execute_result"
    }
   ],
   "source": [
    "cv2.imwrite('focus.jpg',imagett)"
   ]
  },
  {
   "cell_type": "code",
   "execution_count": null,
   "metadata": {},
   "outputs": [],
   "source": []
  }
 ],
 "metadata": {
  "kernelspec": {
   "display_name": "Python 3",
   "language": "python",
   "name": "python3"
  },
  "language_info": {
   "codemirror_mode": {
    "name": "ipython",
    "version": 3
   },
   "file_extension": ".py",
   "mimetype": "text/x-python",
   "name": "python",
   "nbconvert_exporter": "python",
   "pygments_lexer": "ipython3",
   "version": "3.7.7"
  }
 },
 "nbformat": 4,
 "nbformat_minor": 4
}
